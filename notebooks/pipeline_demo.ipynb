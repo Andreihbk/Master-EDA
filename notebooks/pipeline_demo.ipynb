{
 "cells": [
  {
   "cell_type": "markdown",
   "metadata": {},
   "source": []
  },
  {
   "cell_type": "code",
   "execution_count": 10,
   "metadata": {},
   "outputs": [],
   "source": [
    "import sys, pathlib\n",
    "# assume this notebook lives in <project_root>/notebooks/\n",
    "project_root = pathlib.Path().resolve().parent\n",
    "sys.path.insert(0, str(project_root))\n"
   ]
  },
  {
   "cell_type": "code",
   "execution_count": 11,
   "metadata": {},
   "outputs": [],
   "source": [
    "from src.loader import load_rdf, build_nx_graph\n"
   ]
  },
  {
   "cell_type": "code",
   "execution_count": 12,
   "metadata": {},
   "outputs": [
    {
     "name": "stdout",
     "output_type": "stream",
     "text": [
      "Nodes: 267 Edges: 571\n"
     ]
    }
   ],
   "source": [
    "# Load the TTLs\n",
    "rdf = load_rdf([\n",
    "    'data/sickbins-sample.ttl',\n",
    "    'data/sickbins-taxonomy.ttl'\n",
    "])\n",
    "\n",
    "# Convert to NetworkX\n",
    "G = build_nx_graph(rdf)\n",
    "\n",
    "print(\"Nodes:\", G.number_of_nodes(), \"Edges:\", G.number_of_edges())\n"
   ]
  },
  {
   "cell_type": "code",
   "execution_count": 13,
   "metadata": {},
   "outputs": [
    {
     "data": {
      "application/vnd.jupyter.widget-view+json": {
       "model_id": "283fbdfd652f425393e0e214693394fc",
       "version_major": 2,
       "version_minor": 0
      },
      "text/plain": [
       "Computing transition probabilities:   0%|          | 0/267 [00:00<?, ?it/s]"
      ]
     },
     "metadata": {},
     "output_type": "display_data"
    },
    {
     "name": "stderr",
     "output_type": "stream",
     "text": [
      "Generating walks (CPU: 1): 100%|██████████| 50/50 [00:00<00:00, 2400.94it/s]\n",
      "Generating walks (CPU: 2): 100%|██████████| 50/50 [00:00<00:00, 2410.66it/s]\n",
      "Generating walks (CPU: 3): 100%|██████████| 50/50 [00:00<00:00, 2402.90it/s]\n",
      "Generating walks (CPU: 4): 100%|██████████| 50/50 [00:00<00:00, 2394.17it/s]\n"
     ]
    }
   ],
   "source": [
    "# Embedding\n",
    "from src.embed.node2vec import generate_node2vec_embeddings\n",
    "labels, vectors = generate_node2vec_embeddings(G, p=0.25, q=1.0)\n"
   ]
  },
  {
   "cell_type": "code",
   "execution_count": 14,
   "metadata": {},
   "outputs": [
    {
     "name": "stdout",
     "output_type": "stream",
     "text": [
      "Unique clusters: {0, 1, 2, 3, 4}\n"
     ]
    }
   ],
   "source": [
    "from src.cluster import cluster_embeddings\n",
    "\n",
    "# Cluster into 5 groups (you can vary this later)\n",
    "clusters = cluster_embeddings(vectors, n_clusters=5)\n",
    "print(\"Unique clusters:\", set(clusters))\n"
   ]
  },
  {
   "cell_type": "code",
   "execution_count": 15,
   "metadata": {},
   "outputs": [
    {
     "name": "stdout",
     "output_type": "stream",
     "text": [
      "Silhouette Score: 0.2084\n"
     ]
    }
   ],
   "source": [
    "from sklearn.metrics import silhouette_score\n",
    "\n",
    "sil = silhouette_score(vectors, clusters)\n",
    "print(f\"Silhouette Score: {sil:.4f}\")\n"
   ]
  },
  {
   "cell_type": "code",
   "execution_count": 16,
   "metadata": {},
   "outputs": [
    {
     "name": "stdout",
     "output_type": "stream",
     "text": [
      "Silhouette: 0.208\n"
     ]
    }
   ],
   "source": [
    "\n",
    "# Evaluation\n",
    "from src.evaluate import compute_silhouette#, precision_at_k\n",
    "sil = compute_silhouette(vectors, clusters)\n",
    "#prec = precision_at_k('data/similarity_pairs_labeled.csv')\n",
    "print(f\"Silhouette: {sil:.3f}\") #, Precision@5: {prec:.2f}\")\n"
   ]
  },
  {
   "cell_type": "code",
   "execution_count": 17,
   "metadata": {},
   "outputs": [
    {
     "ename": "ImportError",
     "evalue": "cannot import name 'plot_tsne_clusters' from 'src.viz' (/Users/andreimaria/Master/Master-EDA/src/viz.py)",
     "output_type": "error",
     "traceback": [
      "\u001b[31m---------------------------------------------------------------------------\u001b[39m",
      "\u001b[31mImportError\u001b[39m                               Traceback (most recent call last)",
      "\u001b[36mCell\u001b[39m\u001b[36m \u001b[39m\u001b[32mIn[17]\u001b[39m\u001b[32m, line 1\u001b[39m\n\u001b[32m----> \u001b[39m\u001b[32m1\u001b[39m \u001b[38;5;28;01mfrom\u001b[39;00m\u001b[38;5;250m \u001b[39m\u001b[34;01msrc\u001b[39;00m\u001b[34;01m.\u001b[39;00m\u001b[34;01mviz\u001b[39;00m\u001b[38;5;250m \u001b[39m\u001b[38;5;28;01mimport\u001b[39;00m plot_tsne_clusters, plot_tsne_types\n\u001b[32m      3\u001b[39m \u001b[38;5;66;03m# after computing embeddings_2d, cluster_labels, and type_labels:\u001b[39;00m\n\u001b[32m      4\u001b[39m fig1, ax1 = plot_tsne_clusters(embeddings_2d, cluster_labels, title=\u001b[33m\"\u001b[39m\u001b[33mClusters\u001b[39m\u001b[33m\"\u001b[39m)\n",
      "\u001b[31mImportError\u001b[39m: cannot import name 'plot_tsne_clusters' from 'src.viz' (/Users/andreimaria/Master/Master-EDA/src/viz.py)"
     ]
    }
   ],
   "source": [
    "from src.viz import plot_tsne_clusters, plot_tsne_types\n",
    "\n",
    "# after computing embeddings_2d, cluster_labels, and type_labels:\n",
    "fig1, ax1 = plot_tsne_clusters(embeddings_2d, cluster_labels, title=\"Clusters\")\n",
    "fig2, ax2 = plot_tsne_types(embeddings_2d, type_labels, title=\"Node Types\")\n"
   ]
  }
 ],
 "metadata": {
  "kernelspec": {
   "display_name": ".venv",
   "language": "python",
   "name": "python3"
  },
  "language_info": {
   "codemirror_mode": {
    "name": "ipython",
    "version": 3
   },
   "file_extension": ".py",
   "mimetype": "text/x-python",
   "name": "python",
   "nbconvert_exporter": "python",
   "pygments_lexer": "ipython3",
   "version": "3.12.9"
  }
 },
 "nbformat": 4,
 "nbformat_minor": 2
}
